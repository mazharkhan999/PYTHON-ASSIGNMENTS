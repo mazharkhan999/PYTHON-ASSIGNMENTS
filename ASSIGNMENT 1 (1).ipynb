{
 "cells": [
  {
   "cell_type": "code",
   "execution_count": 1,
   "metadata": {},
   "outputs": [
    {
     "name": "stdout",
     "output_type": "stream",
     "text": [
      "Hello world\n"
     ]
    }
   ],
   "source": [
    "print(\"Hello world\")"
   ]
  },
  {
   "cell_type": "code",
   "execution_count": 2,
   "metadata": {},
   "outputs": [
    {
     "name": "stdout",
     "output_type": "stream",
     "text": [
      "Twinkle, twinkle, little star\n",
      "  How I wonder what you are! \n",
      "       Up above the world so high,\n",
      "       Like a diamond in the sky \n",
      "Twinkle, twinkle, little star,\n",
      "   How I wonder what you are\n"
     ]
    }
   ],
   "source": [
    "print(\"Twinkle, twinkle, little star\\n  How I wonder what you are! \\n       Up above the world so high,\\n       Like a diamond in the sky \\nTwinkle, twinkle, little star,\\n   How I wonder what you are\" )"
   ]
  },
  {
   "cell_type": "code",
   "execution_count": 3,
   "metadata": {},
   "outputs": [
    {
     "name": "stdout",
     "output_type": "stream",
     "text": [
      "QUESTION 1 SOL:\n",
      "Twinkle, twinkle, little star\n",
      "  How I wonder what you are! \n",
      "       Up above the world so high,\n",
      "       Like a diamond in the sky \n",
      "Twinkle, twinkle, little star,\n",
      "   How I wonder what you are\n",
      "QUESTION 2 SOL:\n",
      "3.7.4 (default, Aug  9 2019, 18:34:13) [MSC v.1915 64 bit (AMD64)]\n",
      "QUESTION 3 SOL:\n",
      "Current date and time : \n",
      "2019-11-03 16:19:34\n",
      "QUESTION 4 SOL:\n",
      "Enter the radius of circle: 5\n",
      "78.57142857142857\n",
      "Enter First name: Sam\n",
      "Enter Last name: Mohsin\n",
      "Mohsin   Sam\n",
      "Enter the first number: 76\n",
      "Enter the second number: 34\n",
      "110\n"
     ]
    }
   ],
   "source": [
    "#Q1\n",
    "print(\"QUESTION 1 SOL:\")\n",
    "print(\"Twinkle, twinkle, little star\\n  How I wonder what you are! \\n       Up above the world so high,\\n       Like a diamond in the sky \\nTwinkle, twinkle, little star,\\n   How I wonder what you are\" )\n",
    "#Q2:\n",
    "print(\"QUESTION 2 SOL:\")\n",
    "import sys\n",
    "print(sys.version)\n",
    "#Q3:\n",
    "print(\"QUESTION 3 SOL:\")\n",
    "import datetime\n",
    "x = datetime.datetime.now()\n",
    "print (\"Current date and time : \")\n",
    "print (x.strftime(\"%Y-%m-%d %H:%M:%S\"))\n",
    "#Q4:\n",
    "print(\"QUESTION 4 SOL:\")\n",
    "r=int(input(\"Enter the radius of circle: \"))\n",
    "area = (22/7)*r*r\n",
    "print(area)\n",
    "#Q5:\n",
    "first_name = input(\"Enter First name: \")\n",
    "last_name = input(\"Enter Last name: \")\n",
    "print(last_name,\" \",first_name)\n",
    "#Q6:\n",
    "num1 =int(input(\"Enter the first number: \"))\n",
    "num2 =int(input(\"Enter the second number: \"))\n",
    "print(num1+num2)"
   ]
  },
  {
   "cell_type": "code",
   "execution_count": null,
   "metadata": {},
   "outputs": [],
   "source": []
  }
 ],
 "metadata": {
  "kernelspec": {
   "display_name": "Python 3",
   "language": "python",
   "name": "python3"
  },
  "language_info": {
   "codemirror_mode": {
    "name": "ipython",
    "version": 3
   },
   "file_extension": ".py",
   "mimetype": "text/x-python",
   "name": "python",
   "nbconvert_exporter": "python",
   "pygments_lexer": "ipython3",
   "version": "3.7.4"
  }
 },
 "nbformat": 4,
 "nbformat_minor": 2
}
